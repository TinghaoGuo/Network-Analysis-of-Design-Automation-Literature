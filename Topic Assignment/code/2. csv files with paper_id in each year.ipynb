{
 "cells": [
  {
   "cell_type": "code",
   "execution_count": 1,
   "metadata": {
    "collapsed": true
   },
   "outputs": [],
   "source": [
    "import json\n",
    "file_path = \"../data/DAC_Entire_DataBase_2016.json\"\n",
    "\n",
    "with open(file_path, \"r\") as f:\n",
    "    database= json.load(f)\n",
    "\n",
    "#check distinct papers\n",
    "paper_names = {}\n",
    "num = 0\n",
    "for p in database:\n",
    "    if p['PaperID'] in paper_names:\n",
    "        print p['PaperID']\n",
    "        break\n",
    "    else:\n",
    "        num+=1\n",
    "        paper_names[p['PaperID']] = 0"
   ]
  },
  {
   "cell_type": "code",
   "execution_count": 2,
   "metadata": {
    "collapsed": false
   },
   "outputs": [
    {
     "data": {
      "text/plain": [
       "1668"
      ]
     },
     "execution_count": 2,
     "metadata": {},
     "output_type": "execute_result"
    }
   ],
   "source": [
    "num"
   ]
  },
  {
   "cell_type": "code",
   "execution_count": 3,
   "metadata": {
    "collapsed": true
   },
   "outputs": [],
   "source": [
    "import csv\n",
    "import sys\n",
    "reload(sys)\n",
    "sys.setdefaultencoding('utf-8')\n",
    "\n",
    "years = range(2002, 2016)\n",
    "list_of_lists = [[] for i in range(14)]\n",
    "index = 0\n",
    "for p in database:\n",
    "    index += 1\n",
    "    p_id = {}\n",
    "    p_id['title'] = p['Title']\n",
    "    p_id['id'] = index\n",
    "    p_id['abstract'] = p['Abstract']\n",
    "    p_id['year'] = p['Year']\n",
    "    list_of_lists[p['Year']-2002].append(p_id)\n",
    "file_name = '{}_with_id.csv'\n",
    "for year in years:\n",
    "    year_file_name = file_name.format(year)\n",
    "    with open(year_file_name, 'w') as csvfile:\n",
    "        fieldnames = ['id', 'title', 'abstract', 'year']\n",
    "        writer = csv.DictWriter(csvfile, fieldnames = fieldnames)\n",
    "        writer.writeheader()\n",
    "        for p in list_of_lists[year-2002]:\n",
    "            writer.writerow({'id': p['id'],'title': p['title'], 'abstract':p['abstract'], 'year': p['year']})"
   ]
  },
  {
   "cell_type": "code",
   "execution_count": null,
   "metadata": {
    "collapsed": true
   },
   "outputs": [],
   "source": []
  }
 ],
 "metadata": {
  "kernelspec": {
   "display_name": "Python 2",
   "language": "python",
   "name": "python2"
  },
  "language_info": {
   "codemirror_mode": {
    "name": "ipython",
    "version": 2
   },
   "file_extension": ".py",
   "mimetype": "text/x-python",
   "name": "python",
   "nbconvert_exporter": "python",
   "pygments_lexer": "ipython2",
   "version": "2.7.11"
  }
 },
 "nbformat": 4,
 "nbformat_minor": 0
}
