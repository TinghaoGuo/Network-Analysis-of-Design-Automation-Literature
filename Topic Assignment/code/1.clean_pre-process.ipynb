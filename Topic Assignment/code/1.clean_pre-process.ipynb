{
 "cells": [
  {
   "cell_type": "code",
   "execution_count": 1,
   "metadata": {
    "collapsed": true
   },
   "outputs": [],
   "source": [
    "import csv\n",
    "import pandas as pd\n",
    "import nltk\n",
    "from nltk import word_tokenize\n",
    "import enchant"
   ]
  },
  {
   "cell_type": "markdown",
   "metadata": {},
   "source": [
    "step 1. del '-' ; create r1_keyword_list_post.csv"
   ]
  },
  {
   "cell_type": "code",
   "execution_count": 3,
   "metadata": {
    "collapsed": false
   },
   "outputs": [],
   "source": [
    "df = pd.read_csv('../data/keyword_list_post3.csv')\n",
    "r_df = df.replace({'-':' '}, regex = True)\n",
    "r_df.to_csv('r1_keyword_list_post.csv', sep=',', index=False, header = False)"
   ]
  },
  {
   "cell_type": "markdown",
   "metadata": {},
   "source": [
    "step 2. detect repeated/inconsistent rows & MANUALLY delete most them\n",
    "        \n",
    "            create r2_keyword_list_post.csv"
   ]
  },
  {
   "cell_type": "code",
   "execution_count": 3,
   "metadata": {
    "collapsed": false
   },
   "outputs": [
    {
     "name": "stdout",
     "output_type": "stream",
     "text": [
      "['design space', 'design representation', 'problem formulation', 'search', 'design appropriate modeling', '', '']\n",
      "design space ['design representation', 'problem formulation', 'search', 'design appropriate modeling', '', '']\n",
      "['design process', 'design process ', 'systems engineering', '', 'product development', 'design method', '']\n",
      "design process ['design process ', 'problem formulation', 'search', 'design method', 'product development', '']\n",
      "['optimization problem', 'problem formulation', 'design representation', '', 'engineering design optimization', 'design method', 'design appropriate modeling']\n",
      "optimization problem ['problem formulation', '', '', 'engineering design optimization', 'design method', 'design appropriate modeling']\n",
      "['conceptual design', 'human elements of design', 'early stage design', 'design process ', 'product development', 'design method', '']\n",
      "conceptual design ['creativity', 'early stage design', 'visualization', 'design method', 'product development', '']\n",
      "['mathematical model', 'problem formulation', 'numerical methods', '', 'design appropriate modeling', '', '']\n",
      "mathematical model ['problem formulation', 'numerical methods', '', 'design appropriate modeling', 'engineering design optimization', '']\n",
      "['compliant mechanism', 'structural design ', 'topology optimization', 'kinematics', 'mechanical design', 'dynamic and control system design', '']\n",
      "compliant mechanism ['structural design ', 'topology optimization', 'physics based modeling', 'mechanical design', '', '']\n"
     ]
    }
   ],
   "source": [
    "#detect repeated rows (same phrase, different topics)\n",
    "with open('r1_keyword_list_post.csv') as r1_keyword_list:\n",
    "    reader = csv.reader(r1_keyword_list, delimiter=',')\n",
    "    phrase_topic_dic = {}\n",
    "    for row in reader:\n",
    "        if row[0] in phrase_topic_dic:\n",
    "            print row\n",
    "            print row[0], phrase_topic_dic[row[0]]\n",
    "        phrase_topic_dic[row[0]] = [row[1], row[2], row[3], row[4], row[5], row[6]]"
   ]
  },
  {
   "cell_type": "code",
   "execution_count": 4,
   "metadata": {
    "collapsed": true
   },
   "outputs": [],
   "source": [
    "def same_phrase(a, b):\n",
    "    a = a.strip()\n",
    "    b = b.strip()\n",
    "    words_in_b = word_tokenize(b)\n",
    "    words_in_a = word_tokenize(a)\n",
    "    a_list = []\n",
    "    b_list = []\n",
    "    for word in words_in_a:\n",
    "        stemmer = nltk.stem.porter.PorterStemmer()\n",
    "        a_list.append(stemmer.stem_word(word))\n",
    "    for word in words_in_b:\n",
    "        stemmer = nltk.stem.porter.PorterStemmer()\n",
    "        b_list.append(stemmer.stem_word(word))\n",
    "    if a_list==b_list:\n",
    "        return True\n",
    "    return False"
   ]
  },
  {
   "cell_type": "code",
   "execution_count": 5,
   "metadata": {
    "collapsed": true
   },
   "outputs": [],
   "source": [
    "def contain(a, b):\n",
    "    a = a.strip()\n",
    "    b = b.strip()\n",
    "    words_in_b = word_tokenize(b)\n",
    "    words_in_a = word_tokenize(a)\n",
    "    a_list = []\n",
    "    b_list = []\n",
    "    for word in words_in_a:\n",
    "        stemmer = nltk.stem.porter.PorterStemmer()\n",
    "        a_list.append(stemmer.stem_word(word))\n",
    "    for word in words_in_b:\n",
    "        stemmer = nltk.stem.porter.PorterStemmer()\n",
    "        b_list.append(stemmer.stem_word(word))\n",
    "    if len(words_in_a) <= len(words_in_b):\n",
    "        return False\n",
    "    else:\n",
    "        for word in b_list:\n",
    "            if word not in a_list:\n",
    "                return False\n",
    "    return True"
   ]
  },
  {
   "cell_type": "code",
   "execution_count": 6,
   "metadata": {
    "collapsed": false
   },
   "outputs": [
    {
     "name": "stdout",
     "output_type": "stream",
     "text": [
      "del one: simulation models  or  simulation model\n",
      "del: product development process  because of  product development\n",
      "del: finite element model  because of  finite element\n",
      "del one: manufacturing process  or  manufacturing processes\n",
      "del: product family design  because of  product family\n",
      "del: product family design  because of  product families\n",
      "del one: reconfigurable system  or  reconfigurable systems\n",
      "del one: case studies  or  case study\n",
      "del one: radial basis functions  or  radial basis function\n",
      "del one: optimal solution  or  optimal solutions\n",
      "del one: manufacturing processes  or  manufacturing process\n",
      "del one: case study  or  case studies\n",
      "del one: design team  or  design teams\n",
      "del: product design process  because of  product design\n",
      "del: product design process  because of  product designs\n",
      "del one: computational efficiency  or  computationally efficient\n",
      "del: discrete design variables  because of  discrete variables\n",
      "del one: design problem  or  design problems\n",
      "del one: computationally efficient  or  computational efficiency\n",
      "inconsistency: early stage  and  early stages\n",
      "del one: product design  or  product designs\n",
      "del: finite element analysis  because of  finite element\n",
      "del one: reconfigurable systems  or  reconfigurable system\n",
      "del one: optimal solutions  or  optimal solution\n",
      "inconsistency: optimization problems  and  optimization problem\n",
      "del: most probable point  because of  probable point\n",
      "inconsistency: computationally expensive  and  computational expense\n",
      "del one: complex system  or  complex systems\n",
      "del one: design teams  or  design team\n",
      "del one: evolutionary algorithms  or  evolutionary algorithm\n",
      "del one: simulation model  or  simulation models\n",
      "inconsistency: early stages  and  early stage\n",
      "del one: product designs  or  product design\n",
      "del one: manufacturing cost  or  manufacturing costs\n",
      "del one: kriging model  or  kriging models\n",
      "del one: product family  or  product families\n",
      "inconsistency: design processes  and  design process\n",
      "del one: evolutionary algorithm  or  evolutionary algorithms\n",
      "del one: surrogate models  or  surrogate model\n",
      "del one: product families  or  product family\n",
      "del one: genetic algorithms  or  genetic algorithm\n",
      "del one: wind turbines  or  wind turbine\n",
      "del one: optimal designs  or  optimal design\n",
      "del one: radial basis function  or  radial basis functions\n",
      "del: input random variables  because of  random variables\n",
      "del: finite element method  because of  finite element\n",
      "inconsistency: design process  and  design processes\n",
      "del one: optimization technique  or  optimization techniques\n",
      "del one: surrogate model  or  surrogate models\n",
      "del: engineering design problems  because of  design problem\n",
      "del: engineering design problems  because of  engineering problems\n",
      "del: engineering design problems  because of  design problems\n",
      "del: early design stage  because of  early stage\n",
      "del: early design stage  because of  early stages\n",
      "inconsistency: computational expense  and  computationally expensive\n",
      "del one: complex systems  or  complex system\n",
      "del one: optimal design  or  optimal designs\n",
      "del one: genetic algorithm  or  genetic algorithms\n",
      "del one: kriging models  or  kriging model\n",
      "inconsistency: optimization problem  and  optimization problems\n",
      "del one: optimization techniques  or  optimization technique\n",
      "del one: design problems  or  design problem\n",
      "del one: manufacturing costs  or  manufacturing cost\n",
      "del one: wind turbine  or  wind turbines\n"
     ]
    }
   ],
   "source": [
    "#detect partially repeated rows and \n",
    "#manually delete most of them from 'r1_keyword_list_post.csv' to create 'r2_keyword_list_post.csv'\n",
    "for phrase, topics in phrase_topic_dic.items():\n",
    "    for phrase2, topics2 in phrase_topic_dic.items():\n",
    "        if phrase2!=phrase:\n",
    "            if same_phrase(phrase, phrase2) :\n",
    "                if topics==topics2:\n",
    "                    print 'del one: '+ phrase + '  or  ' + phrase2\n",
    "                else:\n",
    "                    print 'inconsistency: ' + phrase + '  and  ' + phrase2\n",
    "            if contain(phrase, phrase2):\n",
    "                \n",
    "                del_phrase = True\n",
    "                for topic in topics:\n",
    "                    if topic not in topics2:\n",
    "                        del_phrase = False\n",
    "                if del_phrase:\n",
    "                    print 'del: ' + phrase + '  because of  ' + phrase2"
   ]
  },
  {
   "cell_type": "code",
   "execution_count": null,
   "metadata": {
    "collapsed": true
   },
   "outputs": [],
   "source": []
  }
 ],
 "metadata": {
  "anaconda-cloud": {},
  "kernelspec": {
   "display_name": "Python [default]",
   "language": "python",
   "name": "python3"
  },
  "language_info": {
   "codemirror_mode": {
    "name": "ipython",
    "version": 3
   },
   "file_extension": ".py",
   "mimetype": "text/x-python",
   "name": "python",
   "nbconvert_exporter": "python",
   "pygments_lexer": "ipython3",
   "version": "3.5.2"
  }
 },
 "nbformat": 4,
 "nbformat_minor": 0
}
